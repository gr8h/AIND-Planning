{
 "cells": [
  {
   "cell_type": "markdown",
   "metadata": {
    "deletable": true,
    "editable": true
   },
   "source": [
    "# Research Review\n",
    "## Historical developments in the field of AI planning languages"
   ]
  },
  {
   "cell_type": "markdown",
   "metadata": {
    "deletable": true,
    "editable": true
   },
   "source": [
    "Planning is a major filed in Artificial Intelligence domain. Planning give robots, a computer program, car ... etc. the ability to perform a plan that interact with the world by performing series of actions which will change the state of the world to reach goal state.\n",
    "\n",
    "Every agent need to have an initial state, list of allowed actions in each state, the goal and a plan to find the sequence of actions that will led the agent from the initial state to the goal state, however, to represent a plan we need a language which will describe the world, states, actions and the goal.\n",
    "\n",
    "Planning languages is the key stone which make it possible for planning algorithms to be able to capture the structure of the problem. Therefore, the goal is to build a planning language that is expressive enough to describe different type of problems and restrictive enough to allow algorithms to operate over it efficiently.\n"
   ]
  },
  {
   "cell_type": "markdown",
   "metadata": {
    "deletable": true,
    "editable": true
   },
   "source": [
    "\n",
    "The first and simplest planning language called **STRIPS** which stand for STanford Research Institute Problem Solver. STRIPS was originally designed for the Shakey robot project in 1971 by Files and Nilsson, Shakey robot is the first robot that was able to reason about his actions, however, STRIPS has been more influential than its algorithmic approach and a base for other planning languages. \n",
    "\n",
    "STRIPS is composed of states, actions and the goal state.\n",
    "States are represented as collection of positive literals, with the assumptions that any literal that is not mentioned are False.\n",
    "Goal state is reached when the current states contains at least all literals on the goal state.\n",
    "Actions has a specific schema, first the action name and it's parameters, second the preconditions that must be true for the action to be valid at a specific sate, finally the effects that occurs when this action is executed\n"
   ]
  },
  {
   "cell_type": "markdown",
   "metadata": {
    "deletable": true,
    "editable": true
   },
   "source": [
    "STRIPS was very influential, however, it was not expressive enough to represent some real domains problems, therefore, different languages have arrived such as The Action Description Language **ADL** which is a generalization of STRIPS it relaxed some restrictions of STRIPS to handle more realistic problems.\n",
    "\n",
    "ADL unlike STRIPS allow positive and negative literal in the state, ADL introduced the notion of unknown for unmentioned literal and did not assume False, ADL allowed quantified variables conjunctions and disjunctions in goals and it supports equality.\n"
   ]
  },
  {
   "cell_type": "markdown",
   "metadata": {
    "deletable": true,
    "editable": true
   },
   "source": [
    "\n",
    "STRIPS and ADL was the base for another planning language **PDDL** The Problem Domain Description Language, it is an attempt to standardize planning languages which make it possible to compare the performance of planning algorithms, which has a great impact on the development of AI planning algorithms.\n"
   ]
  },
  {
   "cell_type": "markdown",
   "metadata": {
    "deletable": true,
    "editable": true
   },
   "source": [
    "- https://users.ics.aalto.fi/rintanen/planning.html\n",
    "- The book Artificial Intelligence: A Modern Approach by Norvig and Russell\n",
    "- http://www.cogsys.wiai.uni-bamberg.de/teaching/ws0405/s_planning/slides/Introduction_AI_Planning_Folien.pdf"
   ]
  }
 ],
 "metadata": {
  "kernelspec": {
   "display_name": "Python 2",
   "language": "python",
   "name": "python2"
  }
 },
 "nbformat": 4,
 "nbformat_minor": 2
}
