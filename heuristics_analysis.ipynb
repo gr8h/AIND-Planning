{
 "cells": [
  {
   "cell_type": "markdown",
   "metadata": {
    "deletable": true,
    "editable": true
   },
   "source": [
    "# Heuristic Analysis - Planning Seach Algorithm\n",
    "## Air Cargo System"
   ]
  },
  {
   "cell_type": "markdown",
   "metadata": {
    "collapsed": true,
    "deletable": true,
    "editable": true
   },
   "source": [
    "## Uninformed planning searches"
   ]
  },
  {
   "cell_type": "markdown",
   "metadata": {
    "deletable": true,
    "editable": true
   },
   "source": [
    "### Optimal sequence of actions for each problem (Planning problems):\n",
    "#### Problem 1\n",
    "##### Optimal plan length 6\n",
    "```\n",
    "Load(C1, P1, SFO)\n",
    "Load(C2, P2, JFK)\n",
    "Fly(P1, SFO, JFK)\n",
    "Fly(P2, JFK, SFO)\n",
    "Load(C1, P1, JFK)\n",
    "Load(C2, P2, SFO)\n",
    "```\n",
    "#### Problem 2\n",
    "##### Optimal plan length 9\n",
    "```\n",
    "Load(C1, P1, SFO)\n",
    "Load(C2, P2, JFK)\n",
    "Fly(P2, JFK, ATL)\n",
    "Load(C3, P2, ATL)\n",
    "Fly(P1, SFO, JFK)\n",
    "Load(C1, P1, JFK)\n",
    "Fly(P2, ATL, SFO)\n",
    "Load(C2, P2, SFO)\n",
    "Load(C3, P2, SFO)\n",
    "\n",
    "```\n",
    "#### Problem 3\n",
    "##### Optimal plan length 12\n",
    "```\n",
    "Load(C1, P1, SFO)\n",
    "Load(C2, P2, JFK)\n",
    "Fly(P2, JFK, ORD)\n",
    "Load(C4, P2, ORD)\n",
    "Fly(P1, SFO, ATL)\n",
    "Load(C3, P1, ATL)\n",
    "Fly(P1, ATL, JFK)\n",
    "Load(C1, P1, JFK)\n",
    "Load(C3, P1, JFK)\n",
    "Fly(P2, ORD, SFO)\n",
    "Load(C2, P2, SFO)\n",
    "Load(C4, P2, SFO)\n",
    "\n",
    "```"
   ]
  },
  {
   "cell_type": "markdown",
   "metadata": {
    "deletable": true,
    "editable": true
   },
   "source": [
    "### Analysis for non heuristic search\n",
    "\n",
    "Uninformed search methods have access only to the problem definition.\n",
    "\n",
    "##### Breadth First Search\n",
    "BFS expands the shallowest nodes first and is optimal with exponential space complexity.\n",
    "\n",
    "|   | Expansions | Goal Tests  | Time elapsed  | Plan length  |\n",
    "|---|---|---|---|---|\n",
    "| Problem 1 | 43  | 56  | 0.041  | 6  |\n",
    "| Problem 2 | 3190  | 4380  | 16.083  | 9  |\n",
    "| Problem 3 | 14663  | 18098  | 139.33  | 12  |\n",
    "\n",
    "##### Depth First Graph Search\n",
    "DFGS expands the deepest unexpanded node first and is not optimal but has linear space complexity.\n",
    "\n",
    "|   | Expansions | Goal Tests  | Time elapsed  | Plan length  |\n",
    "|---|---|---|---|---|\n",
    "| Problem 1 | 21  | 22  | 0.022  | 20  |\n",
    "| Problem 2 | 1172  | 1173  | 4.59  | 200  |\n",
    "| Problem 3 | 408  | 409  | 2.24  | 392  |\n",
    "\n",
    "##### Uniform Cost Search\n",
    "UCS expands the node with lowest path cost. UCF is optimal however explores nodes more than BFS\n",
    "\n",
    "|   | Expansions | Goal Tests  | Time elapsed  | Plan length  |\n",
    "|---|---|---|---|---|\n",
    "| Problem 1 | 55  | 57  | 0.049  | 6  |\n",
    "| Problem 2 | 4548  | 4550  | 13.74  | 9  |\n",
    "| Problem 3 | 18235  | 18237  | 72.18  | 12  |\n",
    "\n",
    "\n",
    "The above results show that BFS and UCS are optimal, however, DFGS is not optimal although DFGS expands to fewer nodes than BFS and UCS which explains why DFGS find the solution in less time. BFS on the other hand is the fastest optimal solution.\n",
    "\n",
    "Depth First Search expands the search tree to the deepest level until it reaches a node that has no successors then the search backtracks to the next deepest unexplored level it uses LIFO technique to determine which node to expand to first. Because of this DFS is not optimal as it could return a very far node as a goal on the left sub tree (assuming DFS will expand to the left sub tree first) while the optimal goal is on the right sub tree.\n",
    "\n",
    "\n",
    "###### Referance\n",
    "- [1] Norvig and Russell’s textbook 3rd section 3.4.3 Depth-first search"
   ]
  },
  {
   "cell_type": "markdown",
   "metadata": {
    "collapsed": true,
    "deletable": true,
    "editable": true
   },
   "source": [
    "### Analysis for A* searches\n",
    "\n",
    "##### A* search h_pg_levelsum.\n",
    "\n",
    "Levelsum heuristic returns an estimate to the sum of each level cost for each goal [1].\n",
    "\n",
    "|   | Expansions | Goal Tests  | Time elapsed  | Plan length  |\n",
    "|---|---|---|---|---|\n",
    "| Problem 1 | 55  | 57  | 0.98  | 6  |\n",
    "| Problem 2 | 4548  | 4550  | 558  | 9  |\n",
    "| Problem 3 | 18235  | 18237  | 3147.5  | 12  |\n",
    "\n",
    "##### A* search h_ignore_preconditions\n",
    "\n",
    "Ignore preconditions for all action will allow every action to be valid for every state which implies that the number of steps required to solve the problem is the number of remaining goals keeping in mind that some actions may achieve multiple goals and some actions may undo the effect for other actions, by ignoring that some actions may undo the effect of other actions, then the count of the number of actions minimized to reach the goal [2], in other words, we need to ask \"What is the minimum number of actions you'll need to take to satisfy all your goals?\".\n",
    "\n",
    "\n",
    "|   | Expansions | Goal Tests  | Time elapsed  | Plan length  |\n",
    "|---|---|---|---|---|\n",
    "| Problem 1 | 41  | 43  | 0.04  | 6  |\n",
    "| Problem 2 | 1379  | 1381  | 4.9  | 9  |\n",
    "| Problem 3 | 5040  | 5042  | 21.5  | 12  |\n",
    "\n",
    "\n",
    "Ignore Preconditions heuristic out perform all non-heuristic algorithms and levelsum heuristic as well in terms of the number of node expansion and in time, which indicate that evaluating the preconditions takes time.\n",
    "\n",
    "Because Ignore Preconditions heuristic is only concerned with the number of unsatisfied goals at each state to determine what is the minimum number of actions is needed to satisfy them all seems to have less computation and takes less time than levelsum heuristics.\n",
    "\n",
    "In general A* search is optimal and it has less expansion than non-heuristic algorithms, however, it takes more time/ computation effort to reach the goal.\n",
    "\n",
    "###### Referance\n",
    "- [1] Norvig and Russell’s textbook 3rd section 10.3 \n",
    "- [2] Norvig and Russell’s textbook 3rd section 10.2"
   ]
  }
 ],
 "metadata": {
  "kernelspec": {
   "display_name": "Python 2",
   "language": "python",
   "name": "python2"
  },
  "language_info": {
   "codemirror_mode": {
    "name": "ipython",
    "version": 2
   },
   "file_extension": ".py",
   "mimetype": "text/x-python",
   "name": "python",
   "nbconvert_exporter": "python",
   "pygments_lexer": "ipython2",
   "version": "2.7.6"
  }
 },
 "nbformat": 4,
 "nbformat_minor": 0
}
