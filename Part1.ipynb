{
 "cells": [
  {
   "cell_type": "markdown",
   "metadata": {
    "collapsed": true
   },
   "source": [
    "## Uninformed planning searches"
   ]
  },
  {
   "cell_type": "markdown",
   "metadata": {},
   "source": [
    "|   | Expansions  | Goal Tests  | Time elapsed  | Plan length  |\n",
    "|---|---|---|---|---|\n",
    "| **breadth_first_search:** Problem 1 | 43  | 56  | 0.041  | 6  |\n",
    "| **breadth_first_search:** Problem 2 | 457  | 1026  | 1.87  | 6  |\n",
    "| **breadth_first_search:** Problem 3 | 325  | 806  | 1.57  | 6  |\n",
    "| **depth_first_graph_search:** Problem 1 | 21  | 22  | 0.022  | 20  |\n",
    "| **depth_first_graph_search:** Problem 2 | 1527  | 1528  | 6.704  | 549  |\n",
    "| **depth_first_graph_search:** Problem 3 | 3569  | 3570  | 82.203  | 3381  |\n",
    "| **astar_search with h_1:** Problem 1 | 55  | 57  | 0.053  | 6  |\n",
    "| **astar_search with h_1:** Problem 2 | 1356  | 1358  | 4.33  | 6  |\n",
    "| **astar_search with h_1:** Problem 3 | 1087  | 1089  | 4.449  | 6  |\n",
    "| **uniform_cost_search:** Problem 1 | 55  | 57  | 0.049  | 6  |\n",
    "| **uniform_cost_search:** Problem 2 | 1356  | 1358  | 4.98  | 6  |\n",
    "| **uniform_cost_search:** Problem 3 | 1087  | 1089  | 4.199  | 6  |\n",
    "| **greedy_best_first_graph_search with h_1:** Problem 1 | 7  | 9  | 0.008  | 6  |\n",
    "| **greedy_best_first_graph_search with h_1:** Problem 2 | 3571  | 3573  | 11.35  | 21  |\n",
    "| **greedy_best_first_graph_search with h_1:** Problem 3 | 14220  | 14222  | 53.341  | 22  |"
   ]
  },
  {
   "cell_type": "code",
   "execution_count": null,
   "metadata": {
    "collapsed": true
   },
   "outputs": [],
   "source": []
  }
 ],
 "metadata": {
  "kernelspec": {
   "display_name": "Python 2",
   "language": "python",
   "name": "python2"
  },
  "language_info": {
   "codemirror_mode": {
    "name": "ipython",
    "version": 2
   },
   "file_extension": ".py",
   "mimetype": "text/x-python",
   "name": "python",
   "nbconvert_exporter": "python",
   "pygments_lexer": "ipython2",
   "version": "2.7.6"
  }
 },
 "nbformat": 4,
 "nbformat_minor": 0
}
