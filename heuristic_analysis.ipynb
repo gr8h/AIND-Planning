{
 "cells": [
  {
   "cell_type": "markdown",
   "metadata": {
    "deletable": true,
    "editable": true
   },
   "source": [
    "# Heuristic Analysis - Planning Seach Algorithm\n",
    "## Air Cargo System"
   ]
  },
  {
   "cell_type": "markdown",
   "metadata": {
    "collapsed": true,
    "deletable": true,
    "editable": true
   },
   "source": [
    "## Uninformed planning searches"
   ]
  },
  {
   "cell_type": "markdown",
   "metadata": {
    "deletable": true,
    "editable": true
   },
   "source": [
    "### Optimal sequence of actions for each problem (Planning problems):\n",
    "#### Problem 1\n",
    "##### Optimal plan length 6\n",
    "```\n",
    "Load(C1, P1, SFO)\n",
    "Load(C2, P2, JFK)\n",
    "Fly(P1, SFO, JFK)\n",
    "Fly(P2, JFK, SFO)\n",
    "Load(C1, P1, JFK)\n",
    "Load(C2, P2, SFO)\n",
    "```\n",
    "#### Problem 2\n",
    "##### Optimal plan length 9\n",
    "```\n",
    "Load(C1, P1, SFO)\n",
    "Load(C2, P2, JFK)\n",
    "Fly(P2, JFK, ATL)\n",
    "Load(C3, P2, ATL)\n",
    "Fly(P1, SFO, JFK)\n",
    "Load(C1, P1, JFK)\n",
    "Fly(P2, ATL, SFO)\n",
    "Load(C2, P2, SFO)\n",
    "Load(C3, P2, SFO)\n",
    "\n",
    "```\n",
    "#### Problem 3\n",
    "##### Optimal plan length 12\n",
    "```\n",
    "Load(C1, P1, SFO)\n",
    "Load(C2, P2, JFK)\n",
    "Fly(P2, JFK, ORD)\n",
    "Load(C4, P2, ORD)\n",
    "Fly(P1, SFO, ATL)\n",
    "Load(C3, P1, ATL)\n",
    "Fly(P1, ATL, JFK)\n",
    "Load(C1, P1, JFK)\n",
    "Load(C3, P1, JFK)\n",
    "Fly(P2, ORD, SFO)\n",
    "Load(C2, P2, SFO)\n",
    "Load(C4, P2, SFO)\n",
    "\n",
    "```"
   ]
  },
  {
   "cell_type": "markdown",
   "metadata": {
    "deletable": true,
    "editable": true
   },
   "source": [
    "### Analysis for non heuristic search\n",
    "\n",
    "##### Breadth First Search\n",
    "BFS is optimal with better performance in terms of time and space complexity (number of node expansion)\n",
    "\n",
    "|   | Expansions | Goal Tests  | Time elapsed  | Plan length  |\n",
    "|---|---|---|---|---|\n",
    "| Problem 1 | 43  | 56  | 0.041  | 6  |\n",
    "| Problem 2 | 3190  | 4380  | 16.083  | 9  |\n",
    "| Problem 3 | 14663  | 18098  | 139.33  | 12  |\n",
    "\n",
    "##### Depth First Graph Search\n",
    "DFGS is not optimal with high space complexity\n",
    "\n",
    "|   | Expansions | Goal Tests  | Time elapsed  | Plan length  |\n",
    "|---|---|---|---|---|\n",
    "| Problem 1 | 21  | 22  | 0.022  | 20  |\n",
    "| Problem 2 | 1172  | 1173  | 4.59  | 200  |\n",
    "| Problem 3 | 408  | 409  | 2.24  | 392  |\n",
    "\n",
    "##### Uniform Cost Search\n",
    "UCS is optimal however explores nodes more than BFS\n",
    "\n",
    "|   | Expansions | Goal Tests  | Time elapsed  | Plan length  |\n",
    "|---|---|---|---|---|\n",
    "| Problem 1 | 55  | 57  | 0.049  | 6  |\n",
    "| Problem 2 | 4548  | 4550  | 13.74  | 9  |\n",
    "| Problem 3 | 18235  | 18237  | 72.18  | 12  |"
   ]
  },
  {
   "cell_type": "markdown",
   "metadata": {
    "collapsed": true,
    "deletable": true,
    "editable": true
   },
   "source": [
    "### Analysis for A* searches\n",
    "\n",
    "##### A* search h_pg_levelsum.\n",
    "\n",
    "|   | Expansions | Goal Tests  | Time elapsed  | Plan length  |\n",
    "|---|---|---|---|---|\n",
    "| Problem 1 | 55  | 57  | 0.98  | 6  |\n",
    "| Problem 2 | 4548  | 4550  | 558  | 9  |\n",
    "| Problem 3 | 18235  | 18237  | 3147.5  | 12  |\n",
    "\n",
    "##### A* search h_ignore_preconditions\n",
    "\n",
    "|   | Expansions | Goal Tests  | Time elapsed  | Plan length  |\n",
    "|---|---|---|---|---|\n",
    "| Problem 1 | 41  | 43  | 0.04  | 6  |\n",
    "| Problem 2 | 1379  | 1381  | 4.9  | 9  |\n",
    "| Problem 3 | 5040  | 5042  | 21.5  | 12  |\n",
    "\n",
    "\n",
    "Ignore Preconditions heuristic out perform all non-heuristic algorithms and levelsum heuristic as well in terms of the number of node expansion and in time, which indicate that evaluating the preconditions takes time.\n",
    "\n",
    "In general A* search is optimal and it has less expansion than non-heuristic algorithms, however, it takes more time/ computation effort to reach the goal."
   ]
  }
 ],
 "metadata": {
  "kernelspec": {
   "display_name": "Python 2",
   "language": "python",
   "name": "python2"
  },
  "language_info": {
   "codemirror_mode": {
    "name": "ipython",
    "version": 2
   },
   "file_extension": ".py",
   "mimetype": "text/x-python",
   "name": "python",
   "nbconvert_exporter": "python",
   "pygments_lexer": "ipython2",
   "version": "2.7.6"
  }
 },
 "nbformat": 4,
 "nbformat_minor": 0
}
